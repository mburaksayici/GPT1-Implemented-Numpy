{
 "cells": [
  {
   "cell_type": "markdown",
   "metadata": {
    "id": "LziaXceZEJzl"
   },
   "source": [
    "\n",
    "### GPT1 Implemented with NumPy : Generate Jokes\n",
    "\n",
    "I love implementing DL algorithms with NumPy, it's best way to learn the engine. I've implemented SHAP, and CNNs, and GradCAM methods with pure numpy before, you can refer to my Github Page for this.\n",
    "\n",
    "One can go with Jax, but I prefer going with NumPy, it feels I solve the algorithm with pen and paper.\n",
    "\n",
    "And this is not the first time it's implemented, I'm late to the LLM train and here are probably some better works:\n",
    "\n",
    "https://github.com/likejazz/llama3.np\n",
    "\n",
    "https://thellm.substack.com/p/llama-3-implemented-in-pure-numpy\n",
    "\n",
    "https://medium.com/@kudoysl/build-your-own-chatgpt-from-scratch-in-python-numpy-9401acd68af5\n",
    "\n",
    "https://www.youtube.com/watch?v=kCc8FmEb1nY\n",
    "\n",
    "And definitely I've taken some parts from these amazing guys/gals.\n",
    "\n",
    "\n",
    "Note that:\n",
    "- I'll first only focus on feedforward. Then I'll implement backprop.\n",
    "- I can use tons of for loops to be more descriptive on the algorithms. I know there are faster matrix operations but if I needed them I would be using Jax or PyTorch. I just need to learn details atm.\n",
    "\n",
    "\n",
    "#### And a special note:\n",
    "I've implemented the backprop, however, either sth wrong with backpropagation technique, or training, so I'll defer to fixing the backpropagation to other blog post unfortunately. Anyone would like to help me, I can happily host a second part of the blog post together, also can host it on my Youtube Channel.\n",
    "\n",
    "### Architecture\n",
    "\n",
    "It's already complicated, but we'll implement one by one. At first we'll implement the easier version:\n",
    "\n",
    "- Simple encoder\n",
    "- Single Block Transformer with:\n",
    "- 1. Single Attention\n",
    "- 2. Single layer\n",
    "\n",
    "\n",
    "Then we'll implement the near-complete one with:\n",
    "- Real encoder\n",
    "- Multi-head attention\n",
    "\n",
    "\n",
    "\n",
    "### Import Numpy :)\n",
    "\n",
    "\n"
   ]
  },
  {
   "cell_type": "code",
   "execution_count": null,
   "metadata": {
    "id": "EAiBN_6GkwUt"
   },
   "outputs": [],
   "source": [
    "import numpy as np"
   ]
  },
  {
   "cell_type": "markdown",
   "metadata": {
    "id": "mjuEWMlHEKhT"
   },
   "source": [
    "#### Get data\n",
    "\n",
    "I'll use jokes dataset."
   ]
  },
  {
   "cell_type": "code",
   "execution_count": 16,
   "metadata": {
    "id": "vx33xZGCPo1k"
   },
   "outputs": [],
   "source": [
    "import requests\n",
    "\n",
    "# URL of the text file\n",
    "url = \"https://raw.githubusercontent.com/yesinteractive/dadjokes/master/controllers/jokes.txt\"\n",
    "\n",
    "# Send a GET request to fetch the content of the text file\n",
    "response = requests.get(url)\n",
    "\n",
    "# Check if the request was successful\n",
    "if response.status_code == 200:\n",
    "    # Get the text content from the response\n",
    "    text_content = response.text\n",
    "\n",
    "else:\n",
    "    print(f\"Failed to retrieve data. Status code: {response.status_code}\")\n"
   ]
  },
  {
   "cell_type": "code",
   "execution_count": 17,
   "metadata": {
    "colab": {
     "base_uri": "https://localhost:8080/"
    },
    "id": "XyE3_lvbPzxa",
    "outputId": "7420edca-4abe-461f-d37f-51f5b950144e"
   },
   "outputs": [
    {
     "name": "stdout",
     "output_type": "stream",
     "text": [
      "What did one pirate say to the other when he beat him at chess?<>Checkmatey.\n",
      "I burned 2000 calories today<>I left my food in the oven for too long.\n",
      "I startled my next-door neighbor with my new electri\n"
     ]
    }
   ],
   "source": [
    "print(text_content[0:200])"
   ]
  },
  {
   "cell_type": "markdown",
   "metadata": {
    "id": "P0l4NDHyEJ2g"
   },
   "source": [
    "What an ugly series of jokes."
   ]
  },
  {
   "cell_type": "markdown",
   "metadata": {
    "id": "Qpzc1CDgEJ5J"
   },
   "source": [
    "## Tokenize\n",
    "\n",
    "Let's tokenize as simple as possible, tokenize each word. Character-based tokenization will slow training, word-based tokenization may not work well, but we want to train fast in order to learn.\n",
    "\n",
    "We can touch to the tokenization later, I want to focus on the model first.\n",
    "\n"
   ]
  },
  {
   "cell_type": "code",
   "execution_count": 18,
   "metadata": {
    "id": "gBrsx-OiSnpn"
   },
   "outputs": [],
   "source": [
    "text_content = text_content.lower().replace(\"\\n\", \" \").replace(\"<>\", \" <> \").replace(\".\", \" . \").replace(\"'\",\"\").replace(\",\",\"\").replace(\"?\",\"\")\n",
    "\n",
    "text_content += \" - \" # Don't ask why, it's needed for the tutorial"
   ]
  },
  {
   "cell_type": "markdown",
   "metadata": {
    "id": "huuQEXEUW4q2"
   },
   "source": [
    "Bunch of character replacements are for, we are using a very basic tokenization and I don't want to be able to tokenize a word by a character. Otherwise I'll tokenize\n",
    "\n",
    "- What's\n",
    "- What\n",
    "\n",
    "in a different token. Currently I'll make things easier for tokenization. Just don't care and focus on deep learning part."
   ]
  },
  {
   "cell_type": "code",
   "execution_count": 19,
   "metadata": {
    "colab": {
     "base_uri": "https://localhost:8080/",
     "height": 52
    },
    "id": "J5QAj7M7VbMy",
    "outputId": "c8e56db7-8e54-493b-8bc4-81d5803225a4"
   },
   "outputs": [
    {
     "data": {
      "text/plain": [
       "'what did one pirate say to the other when he beat him at chess <> checkmatey .  i burned 2000 calories today <> i left my food in the oven for too long .  i startled my next-door neighbor with my new '"
      ]
     },
     "execution_count": 19,
     "metadata": {},
     "output_type": "execute_result"
    }
   ],
   "source": [
    "text_content[:200]"
   ]
  },
  {
   "cell_type": "code",
   "execution_count": 20,
   "metadata": {
    "colab": {
     "base_uri": "https://localhost:8080/"
    },
    "id": "WK4JSo42Smfs",
    "outputId": "79b10545-5aa7-4eef-ff3a-1d03ebc4287c"
   },
   "outputs": [
    {
     "name": "stdout",
     "output_type": "stream",
     "text": [
      "We have 1152 unique words and total of 4370 words.\n",
      "Vocabulary size: 1152\n"
     ]
    }
   ],
   "source": [
    "words_in_order = text_content.split(\" \") # split the words by \" \"\n",
    "corpus = list(set(words_in_order))\n",
    "\n",
    "print(\"We have\", len(corpus), \"unique words and total of\" ,len(words_in_order), \"words.\"   )\n",
    "\n",
    "\n",
    "vocab_size = len(corpus)\n",
    "print(\"Vocabulary size:\",vocab_size)\n",
    "\n",
    "\n"
   ]
  },
  {
   "cell_type": "markdown",
   "metadata": {
    "id": "nJmMVQzuUQy0"
   },
   "source": [
    "So to encode, we'll create a lookup table(dict in python) that assigns words to integers, in an order"
   ]
  },
  {
   "cell_type": "code",
   "execution_count": 21,
   "metadata": {
    "id": "pNgNah9PTR4F"
   },
   "outputs": [],
   "source": [
    "# I'm writing simplistic idiotic code atm. Don't worry I won't be cool if I use character encoding.\n",
    "lookup_table = {}\n",
    "\n",
    "for i in range(len(corpus)):\n",
    "  lookup_table[corpus[i] ] = i"
   ]
  },
  {
   "cell_type": "markdown",
   "metadata": {
    "id": "ZPOoNkE0V692"
   },
   "source": [
    "Lookup table now looks like"
   ]
  },
  {
   "cell_type": "code",
   "execution_count": 22,
   "metadata": {
    "colab": {
     "base_uri": "https://localhost:8080/"
    },
    "id": "3OwhX0GIVQNN",
    "outputId": "af05db8d-4199-479c-93b0-fdb7cf202dba"
   },
   "outputs": [
    {
     "data": {
      "text/plain": [
       "{'': 0,\n",
       " '\"first': 638,\n",
       " '\"is': 146,\n",
       " '\"no': 134,\n",
       " '\"would': 343,\n",
       " '-': 779,\n",
       " '.': 593,\n",
       " '0': 955,\n",
       " '1': 377,\n",
       " '1023mb': 965}"
      ]
     },
     "execution_count": 22,
     "metadata": {},
     "output_type": "execute_result"
    }
   ],
   "source": [
    " {k: lookup_table[k] for k in sorted(lookup_table.keys())[:10]}"
   ]
  },
  {
   "cell_type": "markdown",
   "metadata": {
    "id": "u47irztWWUgS"
   },
   "source": []
  },
  {
   "cell_type": "code",
   "execution_count": 23,
   "metadata": {
    "id": "Zec-zAdvUE8q"
   },
   "outputs": [],
   "source": [
    "def encode(str_):\n",
    "  words = str_.lower().split()\n",
    "  return [lookup_table[i] for i in words]"
   ]
  },
  {
   "cell_type": "markdown",
   "metadata": {
    "id": "yjxU1at6WVFx"
   },
   "source": [
    "The below is encoded to:\n",
    "What did one pirate say to the other when he beat him at chess"
   ]
  },
  {
   "cell_type": "code",
   "execution_count": 24,
   "metadata": {
    "colab": {
     "base_uri": "https://localhost:8080/"
    },
    "id": "te3Ty7ilWOgO",
    "outputId": "81c523d1-d362-40ea-8812-82e08ec5d41a"
   },
   "outputs": [
    {
     "name": "stdout",
     "output_type": "stream",
     "text": [
      "[462, 700, 339, 257, 632, 1066, 665, 597, 903, 620, 969, 649, 469, 509]\n"
     ]
    }
   ],
   "source": [
    "encoded_word = encode(\"What did one pirate say to the other when he beat him at chess\")\n",
    "print(encoded_word)"
   ]
  },
  {
   "cell_type": "code",
   "execution_count": 25,
   "metadata": {
    "id": "2nxMSefLWZbj"
   },
   "outputs": [],
   "source": [
    "def decode(list_):\n",
    "  inv_map = {v: k for k, v in lookup_table.items()}\n",
    "  return \" \".join([inv_map[i] for i in list_])"
   ]
  },
  {
   "cell_type": "markdown",
   "metadata": {
    "id": "viWRI7vBX0_B"
   },
   "source": [
    "Will be decoded to"
   ]
  },
  {
   "cell_type": "code",
   "execution_count": 26,
   "metadata": {
    "colab": {
     "base_uri": "https://localhost:8080/"
    },
    "id": "-l_LTosdX2yD",
    "outputId": "2b88f5e8-8b0d-4565-bcc3-6cd359ac3d0d"
   },
   "outputs": [
    {
     "name": "stdout",
     "output_type": "stream",
     "text": [
      "what did one pirate say to the other when he beat him at chess\n"
     ]
    }
   ],
   "source": [
    "print(decode(encoded_word))"
   ]
  },
  {
   "cell_type": "markdown",
   "metadata": {
    "id": "yNEd_GEyX-g3"
   },
   "source": [
    "That's sufficient for tokenization until and unless we want to implement token algorithms with numpy.\n"
   ]
  },
  {
   "cell_type": "markdown",
   "metadata": {
    "id": "xj-AdjiRhoTS"
   },
   "source": [
    "### Embedding\n",
    "\n",
    "Embedding is not a new phenomenon in computer science(at least in ML upon my experience).\n",
    "\n",
    "AWS documentation explains embedding the best: convert raw data into continuous values that ML models can interpret.\n",
    "\n",
    "Forget about LLMs, I was working on time series forecasting while ago, and the most important thing to embed dates, or weekends right, because on weekends you sell less may be? Such a feature that converts raw concepts to a mathematical language can be beneficial.\n",
    "- [1,0,0,0,0,0,0],[0,1,0,0,0,0,0] -> Monday, Tuesday\n",
    "- [1,0],[0,1] -> Weekdays, Weekend\n",
    "\n",
    "As you see, for each concept you define a \"vector\", so that your model can discriminate one from another. And as you notice, we have number of features, meaning we have number of embeddings. Weekdays, Weekend, there are 2 features and we have a size of 2.\n",
    "\n",
    "But, if we have 10 million words, will we create 10 million size of [0,1,0,0,0,0,0] ? Shallow speaking, Computer memories are not able to process these sizes easily. So we can transform into something simpler.\n",
    "\n",
    "We can just place these vectors in smaller space, we'll visualise afterwards.\n",
    "\n",
    "If you *really* want to dive on how these beautiful idea works, learn about dimensionality reduction, and manifold learning(advanced).\n"
   ]
  },
  {
   "cell_type": "code",
   "execution_count": 27,
   "metadata": {
    "colab": {
     "base_uri": "https://localhost:8080/",
     "height": 520
    },
    "id": "VqwtFKN5X2vT",
    "outputId": "6f989767-5df0-4298-be8b-e995245552ae"
   },
   "outputs": [
    {
     "name": "stdout",
     "output_type": "stream",
     "text": [
      "Shape of linear layer is  (1152, 2)\n",
      "This is the encodings of a word what :  [462]\n",
      "This is the encodings of a word is :  [917]\n",
      "This is the encodings of a word the :  [665]\n"
     ]
    },
    {
     "data": {
      "image/png": "[encoded data removed]",
      "text/plain": [
       "<Figure size 640x480 with 1 Axes>"
      ]
     },
     "metadata": {},
     "output_type": "display_data"
    }
   ],
   "source": [
    "def create_linear_layer(input_size,output_size):\n",
    "  return np.random.normal(size=[input_size,output_size]) # There are tons of reasons we use a distribution\n",
    "\n",
    "from matplotlib import pyplot as plt\n",
    "\n",
    "\n",
    "embedding_layer = create_linear_layer(vocab_size, 2)\n",
    "\n",
    "print(\"Shape of linear layer is \", embedding_layer.shape )\n",
    "\n",
    "sample_sentence = \"what is the\"\n",
    "\n",
    "for i in sample_sentence.split(\" \"):\n",
    "\n",
    "  print(\"This is the encodings of a word\", i, \": \",  encode(i) )\n",
    "  plt.scatter(*embedding_layer[encode(i)[0]])\n",
    "plt.title(\"This is how words are represented in 2D word\")\n",
    "plt.show()"
   ]
  },
  {
   "cell_type": "markdown",
   "metadata": {
    "id": "adnxCCLQp5gD"
   },
   "source": [
    "If we want the visualisation in 3D:"
   ]
  },
  {
   "cell_type": "code",
   "execution_count": 28,
   "metadata": {
    "colab": {
     "base_uri": "https://localhost:8080/",
     "height": 507
    },
    "id": "cwDlpE8cp4B-",
    "outputId": "e8d82dcb-6cc6-44bb-80c5-e1dc2b71f4ea"
   },
   "outputs": [
    {
     "name": "stdout",
     "output_type": "stream",
     "text": [
      "Encoding of the word: what :  462 and it's embedding is : [-3.23213394  0.37801176 -0.12389232]\n",
      "Encoding of the word: is :  917 and it's embedding is : [ 1.69683877e+00 -1.72843324e-03 -2.35552018e+00]\n",
      "Encoding of the word: the :  665 and it's embedding is : [-0.78150027  1.32962807  0.46034763]\n"
     ]
    },
    {
     "data": {
      "image/png": "[encoded data removed]",
      "text/plain": [
       "<Figure size 640x480 with 1 Axes>"
      ]
     },
     "metadata": {},
     "output_type": "display_data"
    },
    {
     "name": "stdout",
     "output_type": "stream",
     "text": [
      "Let's set the embedding to 20, I think it's sufficient for 1300 unique words, enough to capture the space\n"
     ]
    }
   ],
   "source": [
    "from matplotlib import pyplot as plt\n",
    "\n",
    "\n",
    "embedding_layer = create_linear_layer(vocab_size, 3)\n",
    "\n",
    "# Create 3D scatter plot\n",
    "fig = plt.figure()\n",
    "ax = fig.add_subplot(111, projection='3d')\n",
    "\n",
    "# Plot each word in the sample sentence\n",
    "for word in sample_sentence.split(\" \"):\n",
    "    encoded_word = encode(word)[0]\n",
    "    print(\"Encoding of the word:\", word, \": \", encoded_word, \"and it's embedding is :\", embedding_layer[encoded_word])\n",
    "    ax.scatter(*embedding_layer[encoded_word])\n",
    "\n",
    "# Set titles and labels\n",
    "ax.set_title(\"3D Word Embeddings\")\n",
    "ax.set_xlabel('X')\n",
    "ax.set_ylabel('Y')\n",
    "ax.set_zlabel('Z')\n",
    "\n",
    "# Show the plot\n",
    "plt.show()\n",
    "\n",
    "\n",
    "\n",
    "print(\"Let's set the embedding to 20, I think it's sufficient for 1300 unique words, enough to capture the space\")\n",
    "embedding_dims = 20\n",
    "\n",
    "embedding_layer = create_linear_layer(vocab_size, embedding_dims)"
   ]
  },
  {
   "cell_type": "markdown",
   "metadata": {
    "id": "0_x61bFJvy3Q"
   },
   "source": [
    "So we'll\n",
    "\n",
    "- index an embedding by indexing the linear layer matrix.\n",
    "- means that if I'ld like to get embedding of word \"what\" which has encoding of 1056, i'll get matrix[1056]\n",
    "- our model will learn how to embed with linear layer, and how to separate this words(not necessarily though but let's assume that). Check this out : https://medium.com/@gautam.e/what-is-nn-embedding-really-de038baadd24\n",
    "\n",
    "\n",
    "We'll touch to the gradient descents at the veeery end, to not confuse anything. And we'll try to visualise them during training as well.\n",
    "\n",
    "### Positional Encoding\n",
    "\n",
    "If you've seen an LSTM implementation, you may have noticed that it's taking the inputs in an order, one by one. This may be the reason why they weren't so successful(not sure though, I need to literature search on the effect of pos. encoding on LSTMs if a new architecture is implemented).\n",
    "\n",
    "Simply what we try to achieve is to teach model that there's an order of words. We can normally simply introduce by\n",
    "\n",
    "0,1,2,3,4,5,6,7\n",
    "\n",
    "but one thing that DL models generally don't like is the exploited/limitless outputs during feedforwards(see vanishing gradient, or see why do we need initialisations such as Xu otherwise model is not training properly. So to introduce orders, we'll normalize between 0 and 1, and we'll be introducing these orders with sinus and cosinus.\n",
    "\n",
    "For better explanation see : https://medium.com/@hunter-j-phillips/positional-encoding-7a93db4109e6\n",
    "\n",
    "\n"
   ]
  },
  {
   "cell_type": "code",
   "execution_count": 29,
   "metadata": {
    "colab": {
     "base_uri": "https://localhost:8080/"
    },
    "id": "PIYto7ulX2jb",
    "outputId": "5ba308a5-8bbd-4eae-a9d3-794c3ac76082"
   },
   "outputs": [
    {
     "name": "stdout",
     "output_type": "stream",
     "text": [
      "what is the\n",
      "encoded to:  [462, 917, 665]\n",
      "(3, 20)\n"
     ]
    }
   ],
   "source": [
    "print(sample_sentence)\n",
    "len_sentence = len(encode(sample_sentence))\n",
    "print(\"encoded to: \", encode(sample_sentence ))\n",
    "\n",
    "\n",
    "def positional_encoder(len_sentence,embedding_dim, vocab_size):\n",
    "  pos_encode_word = np.zeros((len_sentence, embedding_dim))\n",
    "  for pos_word in range(len_sentence):\n",
    "      for i in range(0, embedding_dim, 2):\n",
    "          # Apply sine to even dimensions\n",
    "          pos_encode_word[pos_word, i] = np.sin(pos_word / (vocab_size ** ((2 * i)/embedding_dim)))\n",
    "          # Apply cosine to odd dimensions\n",
    "          if i + 1 < embedding_dim:\n",
    "              pos_encode_word[pos_word, i + 1] = np.cos(pos_word / (vocab_size ** ((2 * (i + 1))/embedding_dim)))\n",
    "\n",
    "  return pos_encode_word\n",
    "\n",
    "\n",
    "positional_encodings = positional_encoder(len_sentence, embedding_dims, vocab_size)\n",
    "print(positional_encodings.shape)"
   ]
  },
  {
   "cell_type": "markdown",
   "metadata": {
    "id": "EZNllqskuNpz"
   },
   "source": [
    "I'll add more on this, how did I choose parameters.\n",
    "\n",
    "Along with our word embeddings, when we sum it with embeddings, sum of them will both preserve the position of words and the semantic meaning of the word of interest.\n",
    "\n",
    "So we need to sum them according to the architecture. But how?\n",
    "\n",
    "![GPT Architecture](https://upload.wikimedia.org/wikipedia/commons/thumb/5/51/Full_GPT_architecture.svg/1280px-Full_GPT_architecture.svg.png)\n",
    "\n",
    "\n"
   ]
  },
  {
   "cell_type": "markdown",
   "metadata": {
    "id": "rBHTnveJwedj"
   },
   "source": [
    "### Context Window or Sequence Length\n",
    "\n",
    "In order to sum the positional encoding and token embeddings up, we need to discuss on the dimensions.\n",
    "\n",
    "We said that\n",
    "1. We take a sentence. (\"what is the\")\n",
    "2. We encode each word, three words so we'll have 3 embeddings for this example.\n",
    "3. We embed the words of sentence by passing it through linear layer(or embedding layer) (3,30), (no_of_words, embedding_dims)\n",
    "4. The length of the token embeddings (number of tokens in the sequence) and the positional encodings must match, i.e., the sequence length.\n",
    "5. The dimensionality of the token embeddings and positional encodings must also be the same, i.e., the embedding dimension.\n",
    "6. So positional encoding is also (3,30), and we just sum them."
   ]
  },
  {
   "cell_type": "code",
   "execution_count": 30,
   "metadata": {
    "colab": {
     "base_uri": "https://localhost:8080/"
    },
    "id": "ktkIPAOvuNNi",
    "outputId": "68173427-6dd3-42f8-8c1c-83ec1cc8bf44"
   },
   "outputs": [
    {
     "name": "stdout",
     "output_type": "stream",
     "text": [
      "Sentence: what is the\n",
      "shape of the sentence after positional encoding is added:  (3, 20)\n"
     ]
    }
   ],
   "source": [
    "print(\"Sentence:\",sample_sentence)\n",
    "idxs = encode(sample_sentence)\n",
    "positionally_encoded_tokens = embedding_layer[idxs,:] + positional_encoder(len_sentence, embedding_dims, vocab_size)\n",
    "print(\"shape of the sentence after positional encoding is added: \", positionally_encoded_tokens.shape)\n",
    "\n",
    "\n"
   ]
  },
  {
   "cell_type": "markdown",
   "metadata": {
    "id": "yHPM975czirh"
   },
   "source": [
    "### Dropout\n",
    "\n",
    "Dropout is with us since 2014, it was very popular for CNNs for a while to avoid overfitting, but then it lost its popularity on that manner since there are better methods, but it's still with us with more impact.\n",
    "\n",
    "- Yeah it lost it's popularity around 2016, it's not lie, check this out : https://www.reddit.com/r/MachineLearning/comments/5l3f1c/d_what_happened_to_dropout/\n",
    "\n",
    "- Surprising paper, \"Dropout reduces overfitting\" : https://arxiv.org/pdf/2303.01500\n",
    "\n",
    "\n",
    "You can read the history of dropouts https://medium.com/unpackai/introduction-of-dropout-and-ensemble-model-in-the-history-of-deep-learning-a4c2a512dcca , and my weird way of using dropouts in a Kaggle competitions where I failed heavily https://www.kaggle.com/code/mburaksayici/ensembling-nns-inside-single-nn-for-fast-inference .\n",
    "\n"
   ]
  },
  {
   "cell_type": "code",
   "execution_count": 31,
   "metadata": {
    "id": "SA9NEuvEtTn-"
   },
   "outputs": [],
   "source": [
    "def dropout(X, dropout_rate=0.2):\n",
    "    # Create a random mask with the same shape as X\n",
    "    mask = np.random.binomial(1, 1 - dropout_rate, size=X.shape) # either 1 or 0\n",
    "    # Scale and apply mask\n",
    "    X_dropped = X * mask / (1 - dropout_rate)\n",
    "    return X_dropped\n",
    "\n",
    "\n",
    "dropout_vectors = dropout(positionally_encoded_tokens, dropout_rate=0.2)"
   ]
  },
  {
   "cell_type": "markdown",
   "metadata": {
    "id": "jChpOHdsYnIz"
   },
   "source": [
    "### Initialisation of Weights\n",
    "\n",
    "Attention weights we'll talk later is initialised as Xavier, see the discussion : https://ai.stackexchange.com/questions/30491/is-there-a-proper-initialization-technique-for-the-weight-matrices-in-multi-head"
   ]
  },
  {
   "cell_type": "code",
   "execution_count": 32,
   "metadata": {
    "id": "8VK8ftNxYuxo"
   },
   "outputs": [],
   "source": [
    "def xavier_initialization(n_in, n_out):\n",
    "\n",
    "    limit = np.sqrt(6 / (n_in + n_out))  # Compute the Xavier scaling factor\n",
    "    return np.random.uniform(-limit, limit, size=(n_in, n_out))\n",
    "\n",
    "\n"
   ]
  },
  {
   "cell_type": "markdown",
   "metadata": {
    "id": "K0oeyz3MQ1iK"
   },
   "source": [
    "### Transformer Model\n",
    "\n",
    "I advise you to watch https://www.youtube.com/watch?v=eMlx5fFNoYc.\n",
    "\n",
    "#### Attention\n",
    "\n",
    "Let's start with attention. Or \"Single-Head Attention\", or \"Scaled Dot-Product Attention\".  \n",
    "\n",
    "- About masks : https://pi-tau.github.io/posts/transformer/#attention"
   ]
  },
  {
   "cell_type": "code",
   "execution_count": 33,
   "metadata": {
    "id": "UT_etCqhoOnw"
   },
   "outputs": [],
   "source": [
    "\n",
    "\n",
    "def softmax(x):\n",
    "    exps = np.exp(x - np.max(x, axis=-1, keepdims=True))\n",
    "    return exps / np.sum(exps, axis=-1, keepdims=True)\n",
    "\n",
    "\n",
    "def attention(X,W_Q,W_K,W_V):\n",
    "    Q = np.dot(X, W_Q)  # [n_seq, n_embd] @ [n_embd, n_embd] -> [n_seq, n_embd]\n",
    "    K = np.dot(X, W_K)  # [n_seq, n_embd] @ [n_embd, n_embd] -> [n_seq, n_embd]\n",
    "    V = np.dot(X, W_V)  # [n_seq, n_embd] @ [n_embd, n_embd] -> [n_seq, n_embd]\n",
    "\n",
    "    mask = (1 - np.tri(X.shape[0], dtype=X.dtype)) * -1e10  # [n_seq, n_seq]\n",
    "\n",
    "    scores = softmax (   (  np.dot(Q, K.T )  / np.sqrt(Q.shape[-1])    )   + mask    ) # [n_seq, n_embd]\n",
    "    return np.dot(scores, V)  # [n_seq, n_embd]\n",
    "\n",
    "\n",
    "\n",
    "\n",
    "# We have Query, Key, Value matrices, can be initialised with xavier with embedding_dims set above.\n",
    "\n",
    "W_Q = xavier_initialization(embedding_dims,embedding_dims) # weights of q\n",
    "W_K = xavier_initialization(embedding_dims,embedding_dims)\n",
    "W_V = xavier_initialization(embedding_dims,embedding_dims)\n",
    "\n",
    "out = attention(dropout_vectors, W_Q,W_K,W_V )\n"
   ]
  },
  {
   "cell_type": "markdown",
   "metadata": {
    "id": "e8GTLKOroCyB"
   },
   "source": [
    "### Layer Normalization with Residual Connection\n",
    "As it's said before on initialisation, if the layer outputs doesn't have some kind of a mathematical standard, it's hard for model to learn, or correctly update the weights with gradient descent.\n",
    "\n",
    "Layer normalisation is simply ensuring output of models are having\n",
    "- mean of 0\n",
    "- standard deviation of 1\n",
    "\n",
    "You can research about it, but it's simply:\n",
    "- Assume you have a vector(or layer, or weights, or matrix, or tensor, whatever you want) that is [0, 5, 10].\n",
    "- Take the mean, which is 5, substract it from all, [-5 , 0 , 5], now the mean is 0.\n",
    "- Calculate the standard deviation, which means sqrt ( sum( (x_i -mean )**2 ) / size-1  ) = sqrt ( 5^2 + 0^2 + -5^2   / 2 ) = sqrt (50/2) = 5\n",
    "- Divide all with 5, [-5/5 , 0/5, 5/5] = [1, 0, 1]\n",
    "\n",
    "That's how it's work. And its the topic of statistics\n",
    "\n",
    "\n",
    "\n",
    "\n",
    "\n",
    "And residual connection is a method of ResNet's, i dont have if it dates back before that, we sum the output of layer with its input to again ensure numerical stability. See Visualizing the Loss Landscape of Neural Nets: https://papers.nips.cc/paper_files/paper/2018/file/a41b3bb3e6b050b6c9067c67f663b915-Paper.pdf\n",
    "\n",
    "\n",
    "\n"
   ]
  },
  {
   "cell_type": "code",
   "execution_count": 34,
   "metadata": {
    "id": "O_0FIc12rinx"
   },
   "outputs": [],
   "source": [
    "def residual_norm(X, attention_out, epsilon=1e-6):\n",
    "    residual = X + attention_out  # Residual connection\n",
    "    mean = np.mean(residual, axis=-1, keepdims=True)\n",
    "    var = np.var(residual, axis=-1, keepdims=True)\n",
    "    normalized = (residual - mean) / np.sqrt(var + epsilon)  # Layer normalization\n",
    "    return normalized\n",
    "\n",
    "\n",
    "residual_norm_after_attention = residual_norm(dropout_vectors,out, )"
   ]
  },
  {
   "cell_type": "code",
   "execution_count": 35,
   "metadata": {
    "colab": {
     "base_uri": "https://localhost:8080/"
    },
    "id": "OFtI8d075bZz",
    "outputId": "c031a04d-1001-4e85-93cd-6a7bac4790d1"
   },
   "outputs": [
    {
     "data": {
      "text/plain": [
       "(3, 20)"
      ]
     },
     "execution_count": 35,
     "metadata": {},
     "output_type": "execute_result"
    }
   ],
   "source": [
    "residual_norm_after_attention.shape"
   ]
  },
  {
   "cell_type": "markdown",
   "metadata": {
    "id": "uqqmXCVH4iXU"
   },
   "source": [
    "### Feedforward Network\n"
   ]
  },
  {
   "cell_type": "code",
   "execution_count": 36,
   "metadata": {
    "colab": {
     "base_uri": "https://localhost:8080/"
    },
    "id": "H7b07P4Z4mk7",
    "outputId": "310834b3-5c7a-478f-92ce-b1c00b953a0a"
   },
   "outputs": [
    {
     "name": "stdout",
     "output_type": "stream",
     "text": [
      "Feedforward Shape: (3, 20)\n"
     ]
    }
   ],
   "source": [
    "\n",
    "\n",
    "linear_after_attention_1 = create_linear_layer(20,40)\n",
    "linear_after_attention_2 =  create_linear_layer(40,20 )\n",
    "\n",
    "\n",
    "def feedforward(X, W1, W2, b1=0, b2=0):\n",
    "    # First linear layer\n",
    "    hidden = np.maximum(0, np.dot(X, W1) + b1)  # ReLU activation\n",
    "    # Second linear layer\n",
    "    output = np.dot(hidden, W2) + b2\n",
    "    return output\n",
    "\n",
    "\n",
    "feedforward_out = feedforward(residual_norm_after_attention, linear_after_attention_1, linear_after_attention_2, b1=0, b2=0)\n",
    "\n",
    "\n",
    "print(\"Feedforward Shape:\", feedforward_out.shape)"
   ]
  },
  {
   "cell_type": "markdown",
   "metadata": {
    "id": "nZOX2t1aBcDR"
   },
   "source": [
    "And again we will have residual skips"
   ]
  },
  {
   "cell_type": "code",
   "execution_count": 37,
   "metadata": {
    "id": "W6o2q7OuBegS"
   },
   "outputs": [],
   "source": [
    "final_out = residual_norm(residual_norm_after_attention,feedforward_out)"
   ]
  },
  {
   "cell_type": "markdown",
   "metadata": {
    "id": "XPn6ezmgCfxJ"
   },
   "source": [
    "We are done with final output. It give us  (3,20) (seq_len,n_emb) size of output. And we need to convert it back to sentence/or word, simply we are decoding.\n",
    "\n",
    "\n",
    "Remember we have embedding layer of vocab_size,embedding dim. (1151, 20)\n",
    "\n",
    "We want to have 3,1151 vector to get probabilities(if you apply softmax, logits if you dont) for all words.\n",
    "\n",
    "\n",
    "Trick is just\n",
    "final_out*embedding_layer.T\n",
    "\n",
    "(3,20) dot (20,1551) = (3,1151)"
   ]
  },
  {
   "cell_type": "code",
   "execution_count": 38,
   "metadata": {
    "colab": {
     "base_uri": "https://localhost:8080/"
    },
    "id": "g86WGF6xBptf",
    "outputId": "ee81935f-30ff-4471-9a02-2882d126180a"
   },
   "outputs": [
    {
     "name": "stdout",
     "output_type": "stream",
     "text": [
      "(3, 1152)\n"
     ]
    }
   ],
   "source": [
    "prediction = np.dot(final_out,embedding_layer.T)\n",
    "print(prediction.shape)\n",
    "\n"
   ]
  },
  {
   "cell_type": "markdown",
   "metadata": {
    "id": "KF6gLVPtMPXM"
   },
   "source": [
    "Here's our first output without training."
   ]
  },
  {
   "cell_type": "code",
   "execution_count": 39,
   "metadata": {
    "colab": {
     "base_uri": "https://localhost:8080/"
    },
    "id": "aNEm6FaeCe_H",
    "outputId": "dd78ad9d-254d-4157-9df8-b381c6a4149d"
   },
   "outputs": [
    {
     "name": "stdout",
     "output_type": "stream",
     "text": [
      "prisoners prisoners promoted\n"
     ]
    }
   ],
   "source": [
    "print(decode(prediction.argmax(1)))"
   ]
  },
  {
   "cell_type": "markdown",
   "metadata": {
    "id": "KrkNZ21Z156e"
   },
   "source": [
    "### Generate Sentence\n",
    "\n",
    "Let's wrap all up"
   ]
  },
  {
   "cell_type": "code",
   "execution_count": 40,
   "metadata": {
    "id": "AhN9_Sraa2_d"
   },
   "outputs": [],
   "source": [
    "import numpy as np\n",
    "import requests\n",
    "\n",
    "class GPT1Numpy:\n",
    "    def __init__(self, vocab_size, lookup_table, embedding_dim, max_seq_len):\n",
    "        self.vocab_size = vocab_size\n",
    "        self.embedding_dim = embedding_dim\n",
    "        self.max_seq_len = max_seq_len\n",
    "        self.lookup_table = lookup_table\n",
    "\n",
    "        # Initialize embeddings, positional encodings, and attention weights\n",
    "        self.embedding_layer = self.create_linear_layer(vocab_size, embedding_dim)\n",
    "        self.W_Q = self.xavier_initialization(embedding_dim, embedding_dim)\n",
    "        self.W_K = self.xavier_initialization(embedding_dim, embedding_dim)\n",
    "        self.W_V = self.xavier_initialization(embedding_dim, embedding_dim)\n",
    "        self.W1 = self.xavier_initialization(embedding_dim, embedding_dim)  # Feedforward layer weights\n",
    "        self.W2 = self.xavier_initialization(embedding_dim, embedding_dim)  # Feedforward layer weights\n",
    "        self.b1 = np.zeros(embedding_dim)  # Feedforward layer biases\n",
    "        self.b2 = np.zeros(embedding_dim)  # Feedforward layer biases\n",
    "\n",
    "    def encode(self, str_):\n",
    "        words = str_.lower().split()\n",
    "        return [self.lookup_table[i] for i in words]\n",
    "\n",
    "    def decode(self, list_):\n",
    "        inv_map = {v: k for k, v in self.lookup_table.items()}\n",
    "        return \" \".join([inv_map[i] for i in list_])\n",
    "\n",
    "    def create_linear_layer(self, input_size, output_size):\n",
    "        return np.random.normal(size=[input_size, output_size])\n",
    "\n",
    "    def xavier_initialization(self, n_in, n_out):\n",
    "        limit = np.sqrt(6 / (n_in + n_out))\n",
    "        return np.random.uniform(-limit, limit, size=(n_in, n_out))\n",
    "\n",
    "    def softmax(self, x):\n",
    "        exps = np.exp(x - np.max(x, axis=-1, keepdims=True))\n",
    "        return exps / np.sum(exps, axis=-1, keepdims=True)\n",
    "\n",
    "    def attention(self, X):\n",
    "        Q = np.dot(X, self.W_Q)\n",
    "        K = np.dot(X, self.W_K)\n",
    "        V = np.dot(X, self.W_V)\n",
    "\n",
    "        mask = (1 - np.tri(X.shape[0], dtype=X.dtype)) * -1e10\n",
    "        scores = self.softmax((np.dot(Q, K.T) / np.sqrt(Q.shape[-1])) + mask)\n",
    "        return np.dot(scores, V)\n",
    "\n",
    "    def positional_encoder(self, len_sentence):\n",
    "        pos_encode_word = np.zeros((len_sentence, self.embedding_dim))\n",
    "        for pos_word in range(len_sentence):\n",
    "            for i in range(0, self.embedding_dim, 2):\n",
    "                pos_encode_word[pos_word, i] = np.sin(pos_word / (self.vocab_size ** (2 * i / self.embedding_dim)))\n",
    "                if i + 1 < self.embedding_dim:\n",
    "                    pos_encode_word[pos_word, i + 1] = np.cos(pos_word / (self.vocab_size ** (2 * (i + 1) / self.embedding_dim)))\n",
    "        return pos_encode_word\n",
    "\n",
    "    def residual_norm(self, X, attention_out, epsilon=1e-6):\n",
    "        residual = X + attention_out  # Residual connection\n",
    "        mean = np.mean(residual, axis=-1, keepdims=True)\n",
    "        var = np.var(residual, axis=-1, keepdims=True)\n",
    "        normalized = (residual - mean) / np.sqrt(var + epsilon)  # Layer normalization\n",
    "        return normalized\n",
    "\n",
    "    def feedforward(self, X, W1, W2, b1=0, b2=0):\n",
    "        # First linear layer\n",
    "        hidden = np.maximum(0, np.dot(X, W1) + b1)  # ReLU activation\n",
    "        # Second linear layer\n",
    "        output = np.dot(hidden, W2) + b2\n",
    "        return output\n",
    "\n",
    "    def forward(self, sentence):\n",
    "        # Encode the sentence\n",
    "        encoded_sentence = self.encode(sentence)\n",
    "\n",
    "        # Get embeddings and positional encodings\n",
    "        token_embeddings = self.embedding_layer[encoded_sentence]\n",
    "        pos_encodings = self.positional_encoder(len(encoded_sentence))\n",
    "\n",
    "        # Add positional encodings to token embeddings\n",
    "        X = token_embeddings + pos_encodings\n",
    "\n",
    "        # Pass through the attention layer\n",
    "        attention_output = self.attention(X)\n",
    "\n",
    "        # Apply residual layer normalization\n",
    "        X_normalized = self.residual_norm(X, attention_output)\n",
    "\n",
    "        # Pass through the feedforward network\n",
    "        output = self.feedforward(X_normalized, self.W1, self.W2, self.b1, self.b2)\n",
    "\n",
    "        return output\n",
    "\n",
    "    def predict_next_word(self, current_sequence):\n",
    "\n",
    "        attention_output = self.forward(current_sequence)\n",
    "        predicted_word_idx = np.argmax(np.sum(attention_output, axis=0))  # Aggregate to predict\n",
    "        return self.decode([predicted_word_idx])\n",
    "\n",
    "    def inference(self, initial_sentence, max_len=10):\n",
    "        sentence = initial_sentence\n",
    "        for _ in range(max_len - len(initial_sentence.split())):\n",
    "            next_word = self.predict_next_word(sentence)\n",
    "            sentence += \" \" + next_word\n",
    "            if next_word == '.':\n",
    "                break\n",
    "        return sentence"
   ]
  },
  {
   "cell_type": "markdown",
   "metadata": {
    "id": "_DHq4L_f1OAA"
   },
   "source": [
    "### Inference Function\n",
    "Our inference function is simply predicting the next word, choose the most probable one. Note that the temperature mechanism also can be employed one by not chosing the first most probable, but the second, but it's the topic of the next day.\n",
    "\n"
   ]
  },
  {
   "cell_type": "markdown",
   "metadata": {
    "id": "ZcIY-2SMzGeN"
   },
   "source": [
    "Let's initialise the model with no-backprop."
   ]
  },
  {
   "cell_type": "code",
   "execution_count": 41,
   "metadata": {
    "id": "rY77hKlmbZdp"
   },
   "outputs": [],
   "source": [
    "\n",
    "# Initialize the model\n",
    "url = \"https://raw.githubusercontent.com/yesinteractive/dadjokes/master/controllers/jokes.txt\"\n",
    "response = requests.get(url)\n",
    "text_content = response.text.lower().replace(\"\\n\", \" \").replace(\"<>\", \" <> \").replace(\".\", \" . \").replace(\"'\",\"\").replace(\",\",\"\").replace(\"?\",\"\")\n",
    "words_in_order = text_content.split(\" \")\n",
    "corpus = list(set(words_in_order))\n",
    "\n",
    "vocab_size = len(corpus)\n",
    "embedding_dims = 20\n",
    "max_seq_len = 10\n",
    "\n",
    "gpt_model = GPT1Numpy(vocab_size=vocab_size, lookup_table=lookup_table,embedding_dim=embedding_dims, max_seq_len=max_seq_len)\n",
    "\n",
    "# Initialize lookup table\n",
    "for i in range(len(corpus)):\n",
    "    gpt_model.lookup_table[corpus[i]] = i\n",
    "\n"
   ]
  },
  {
   "cell_type": "code",
   "execution_count": 42,
   "metadata": {
    "colab": {
     "base_uri": "https://localhost:8080/"
    },
    "id": "Uk1hbsJN884G",
    "outputId": "3c5cdfe8-4764-4803-bafd-088e9980ede4"
   },
   "outputs": [
    {
     "name": "stdout",
     "output_type": "stream",
     "text": [
      "what is the so so so so so so so\n"
     ]
    }
   ],
   "source": [
    "# Perform inference\n",
    "start_sentence = \"what is the\"\n",
    "generated_text = gpt_model.inference(start_sentence, 10)\n",
    "print(generated_text)"
   ]
  },
  {
   "cell_type": "markdown",
   "metadata": {
    "id": "8LIoPo4f0SQn"
   },
   "source": [
    "Let's leave the training part after some wrap-up discussion and completing the whole GPT with two transformer blocks.\n",
    "\n",
    "Currently, what we have is single-block of attention with no batching. It simply looks like this.\n",
    "\n",
    "\n",
    "Image comes here***\n",
    "\n",
    "\n",
    "There are four things we need to consider:\n",
    "- Multi-head self attention is missing as well, we implemented single-head.\n",
    "- There should be 12 blocks of transformers We've implemented a single one. I'm a mercyful person to your CPUs, so we'll only implement two of them.\n",
    "- We didn't employ any batching yet.\n",
    "- We'll implement training, backprops as well.\n",
    "\n",
    "\n",
    "### Full GPT1"
   ]
  },
  {
   "cell_type": "markdown",
   "metadata": {
    "id": "zR5fc-H6IR9F"
   },
   "source": [
    "### Multi-Head Attention\n",
    "\n",
    "Multi-Head attention is just kind of ensembling (https://lilianweng.github.io/posts/2018-06-24-attention/):\n",
    "- On the same input X(pos.enc. + embed.) that we feed-forward to transformer block, instead of operations with single Q K V, and having one # [n_seq, n_embd] shape of output, do the same operation on same input with randomly created Q K V's, let's say 10 of them which are called heads, have # [n_seq, n_embd, n_head=10], then average all to have # [n_seq, n_embd]\n",
    "- Since we know that the logic of attention we wrote on single-head works, ensemble of results will also work.\n",
    "- It's kinda like having multiple kernels in same layer of CNNs. Just like we know that CNN kernels focus on different features of the image, some of the heads focus on verbs, some of them are on adjectives. ( https://aclanthology.org/W19-4828.pdf )\n",
    "** add image from same paper\n",
    "\n",
    "Nice discussion on that : https://stackoverflow.com/questions/66244123/why-use-multi-headed-attention-in-transformers\n",
    "\n",
    "#### number of attention heads (n_embd must be divisible by n_head)?\n",
    "I was confused by the statement of \" number of attention heads (n_embd must be divisible by n_head)? \" from jaykmody's blog.\n",
    "\n",
    "https://stackoverflow.com/questions/66244123/why-use-multi-headed-attention-in-transformers\n",
    "\n",
    "And the reason is explained as \"Instead of using a single attention function where the attention can be dominated by the actual word itself, transformers use multiple attention heads.\"\n",
    "\n",
    "#### How multi-head works?\n",
    "\n",
    "We set the parameters as:\n",
    "\n",
    "\n",
    "- n_embd: This is the embedding dimension, or the size of the vector representing each token (in your example, 30).\n",
    "- n_head: The number of attention heads in multi-head attention (let’s assume 3 heads for this explanation).\n",
    "- n_seq: The number of tokens, or number of words in \"what is the\".\n",
    "\n",
    "Single-head attention works as:\n",
    "\n",
    "1. Input matrix,pos.enc + embd., which has a shape of [n_seq, n_embd] ( [3, 20]).\n",
    "2. We project this matrix into Q,K,V  matrices, which also have the shape [3, 20].\n",
    "3. After applying the attention mechanism, the attention scores are computed, and the output of the attention is of shape [3, 20].\n",
    "\n",
    "Whereas Multi-head attention:\n",
    "\n",
    "1. We split embedding across heads evenly. If we have 3 heads, we want each head to focus on a portion of the embedding.\n",
    "If n_embd = 20 and n_head = 4, each head will get a portion of the embedding of size n_embd_per_head = n_embd / n_head = 30 / 3 = 10.\n",
    "So, instead of working with [3, 20] for the entire attention, each head works with its own portion of embeddings, [3, 5], which is the embedding size allocated to that head.\n",
    "2. Each head independently computes its own Q,K,V with dimensions [n_seq, n_embd_per_head] for each, which in this case is [3, 5]. This allows each head to focus on different parts of the representation.\n",
    "The attention operations is applied independently for each head in its reduced dimension space.\n",
    "3. After each head produces its attention output of shape [3, 5], these outputs are concatenated along the embedding dimension to form a result of shape [3, 20].\n",
    "4. The concatenated output is then passed through a final linear layer to combine the outputs of the multiple heads into a single output representation of the same shape [n_seq, n_embd] = [3, 20].\n",
    "\n",
    "Let's implement this and discuss.\n",
    "\n"
   ]
  },
  {
   "cell_type": "code",
   "execution_count": 43,
   "metadata": {
    "colab": {
     "base_uri": "https://localhost:8080/"
    },
    "id": "inZS7dGSvgAl",
    "outputId": "00d11530-2571-4e4a-d18b-40063895aaaf"
   },
   "outputs": [
    {
     "name": "stdout",
     "output_type": "stream",
     "text": [
      "(3, 20)\n"
     ]
    }
   ],
   "source": [
    "import numpy as np\n",
    "\n",
    "\n",
    "def multihead_attention(X, W_Q, W_K, W_V, n_head):\n",
    "    n_seq, n_embd = X.shape\n",
    "    head_dim = n_embd // n_head\n",
    "\n",
    "    # Split weights for each head\n",
    "    Q = np.dot(X, W_Q).reshape(n_seq, n_head, head_dim)  # [n_seq, n_embd] -> [n_seq, n_head, head_dim]\n",
    "    K = np.dot(X, W_K).reshape(n_seq, n_head, head_dim)  # [n_seq, n_embd] -> [n_seq, n_head, head_dim]\n",
    "    V = np.dot(X, W_V).reshape(n_seq, n_head, head_dim)  # [n_seq, n_embd] -> [n_seq, n_head, head_dim]\n",
    "\n",
    "    # Apply attention for each head independently\n",
    "    multihead_outputs = []\n",
    "\n",
    "    for i in range(n_head):\n",
    "        Qi = Q[:, i, :]  # [n_seq, head_dim]\n",
    "        Ki = K[:, i, :]  # [n_seq, head_dim]\n",
    "        Vi = V[:, i, :]  # [n_seq, head_dim]\n",
    "\n",
    "        mask = (1 - np.tri(n_seq, dtype=X.dtype)) * -1e10  # [n_seq, n_seq]\n",
    "\n",
    "        # Calculate attention scores and apply softmax\n",
    "        scores = softmax((np.dot(Qi, Ki.T) / np.sqrt(head_dim)) + mask)  # [n_seq, n_seq]\n",
    "\n",
    "        # Compute weighted sum of values\n",
    "        head_output = np.dot(scores, Vi)  # [n_seq, head_dim]\n",
    "\n",
    "        multihead_outputs.append(head_output)\n",
    "\n",
    "    # Concatenate outputs from all heads\n",
    "    multihead_output = np.concatenate(multihead_outputs, axis=-1)  # [n_seq, n_embd] (back to original dimension)\n",
    "\n",
    "    return multihead_output\n",
    "\n",
    "\n",
    "# Example usage:\n",
    "n_seq = 3\n",
    "embedding_dims = 20\n",
    "n_head = 4  # Number of attention heads\n",
    "\n",
    "# Initialize X (input embeddings), and Q, K, V weight matrices\n",
    "X = dropout_vectors\n",
    "W_Q = xavier_initialization(embedding_dims, embedding_dims)\n",
    "W_K = xavier_initialization(embedding_dims, embedding_dims)\n",
    "W_V = xavier_initialization(embedding_dims, embedding_dims)\n",
    "\n",
    "# Perform multi-head attention\n",
    "output = multihead_attention(X, W_Q, W_K, W_V, n_head)\n",
    "print(output.shape)  # Should be [n_seq, embedding_dims], e.g., [3, 20]\n"
   ]
  },
  {
   "cell_type": "markdown",
   "metadata": {
    "id": "mSYAe9VjUNjV"
   },
   "source": [
    "#### Two blocks of transformers\n",
    "\n",
    "Let's iterate the block for two."
   ]
  },
  {
   "cell_type": "code",
   "execution_count": 328,
   "metadata": {
    "colab": {
     "base_uri": "https://localhost:8080/"
    },
    "id": "xlnH_2q-9XsV",
    "outputId": "99d11cde-7c7d-4741-c2f5-035b27506e9c"
   },
   "outputs": [
    {
     "name": "stdout",
     "output_type": "stream",
     "text": [
      "what is spelling spelling spelling spelling spelling calendar calendar calendar calendar calendar calendar calendar calendar\n"
     ]
    }
   ],
   "source": [
    "\n",
    "class GPT1Numpy_2TransformerBlock:\n",
    "    def __init__(self, vocab_size, lookup_table, embedding_dim, max_seq_len, num_heads=4):\n",
    "        self.vocab_size = vocab_size\n",
    "        self.embedding_dim = embedding_dim\n",
    "        self.max_seq_len = max_seq_len\n",
    "        self.lookup_table = lookup_table\n",
    "        self.num_heads = num_heads\n",
    "\n",
    "        # Initialize embeddings, positional encodings, and attention weights\n",
    "        self.embedding_layer =self.xavier_initialization(vocab_size, embedding_dim) #  self.create_linear_layer(vocab_size, embedding_dim)\n",
    "\n",
    "        # Transformer block 1\n",
    "        self.W_Q = self.xavier_initialization(embedding_dim, embedding_dim)\n",
    "        self.W_K = self.xavier_initialization(embedding_dim, embedding_dim)\n",
    "        self.W_V = self.xavier_initialization(embedding_dim, embedding_dim)\n",
    "        self.W1 = self.xavier_initialization(embedding_dim, embedding_dim)  # Feedforward layer weights\n",
    "        self.W2 = self.xavier_initialization(embedding_dim, embedding_dim)  # Feedforward layer weights\n",
    "        self.b1 = np.zeros(embedding_dim)  # Feedforward layer biases\n",
    "        self.b2 = np.zeros(embedding_dim)  # Feedforward layer biases\n",
    "\n",
    "        # Transformer block 2\n",
    "        self.W_Q_2 = self.xavier_initialization(embedding_dim, embedding_dim)\n",
    "        self.W_K_2 = self.xavier_initialization(embedding_dim, embedding_dim)\n",
    "        self.W_V_2 = self.xavier_initialization(embedding_dim, embedding_dim)\n",
    "        self.W1_2 = self.xavier_initialization(embedding_dim, embedding_dim)  # Feedforward layer weights\n",
    "        self.W2_2 = self.xavier_initialization(embedding_dim, embedding_dim)  # Feedforward layer weights\n",
    "        self.b1_2 = np.zeros(embedding_dim)  # Feedforward layer biases\n",
    "        self.b2_2 = np.zeros(embedding_dim)  # Feedforward layer biases\n",
    "\n",
    "\n",
    "    def encode(self, str_):\n",
    "        words = str_.lower().split()\n",
    "        return [self.lookup_table[i] for i in words]\n",
    "\n",
    "    def decode(self, list_):\n",
    "        inv_map = {v: k for k, v in self.lookup_table.items()}\n",
    "        return \" \".join([inv_map[i] for i in list_])\n",
    "\n",
    "    def create_linear_layer(self, input_size, output_size):\n",
    "        return np.random.normal(size=[input_size, output_size])\n",
    "\n",
    "    def xavier_initialization(self, n_in, n_out):\n",
    "        limit = np.sqrt(6 / (n_in + n_out))\n",
    "        return np.random.uniform(-limit, limit, size=(n_in, n_out))\n",
    "\n",
    "    def positional_encoder(self, len_sentence):\n",
    "        pos_encode_word = np.zeros((len_sentence, self.embedding_dim))\n",
    "        for pos_word in range(len_sentence):\n",
    "            for i in range(0, self.embedding_dim, 2):\n",
    "                pos_encode_word[pos_word, i] = np.sin(pos_word / (self.vocab_size ** (2 * i / self.embedding_dim)))\n",
    "                if i + 1 < self.embedding_dim:\n",
    "                    pos_encode_word[pos_word, i + 1] = np.cos(pos_word / (self.vocab_size ** (2 * (i + 1) / self.embedding_dim)))\n",
    "        return pos_encode_word\n",
    "\n",
    "    def full_encode(self,sentence):\n",
    "        # Encode the sentence\n",
    "        encoded_sentence = self.encode(sentence)\n",
    "\n",
    "        # Get embeddings and positional encodings\n",
    "        token_embeddings = self.embedding_layer[encoded_sentence]\n",
    "        pos_encodings = self.positional_encoder(len(encoded_sentence))\n",
    "\n",
    "        # Add positional encodings to token embeddings\n",
    "        X = token_embeddings + pos_encodings\n",
    "        return X\n",
    "\n",
    "    def residual_norm(self, X, attention_out, epsilon=1e-6):\n",
    "        residual = X + attention_out  # Residual connection\n",
    "        mean = np.mean(residual, axis=-1, keepdims=True)\n",
    "        var = np.var(residual, axis=-1, keepdims=True)\n",
    "        normalized = (residual - mean) / np.sqrt(var + epsilon)  # Layer normalization\n",
    "        return normalized\n",
    "\n",
    "    def feedforward(self, X, W1, W2, b1=0, b2=0):\n",
    "        # First linear layer\n",
    "        hidden = np.maximum(0, np.dot(X, W1) + b1)  # ReLU activation\n",
    "        # Second linear layer\n",
    "        output = np.dot(hidden, W2) + b2\n",
    "        return output\n",
    "\n",
    "    def multihead_attention(self, X, W_Q, W_K, W_V, n_head):\n",
    "        n_seq, n_embd = X.shape\n",
    "        head_dim = n_embd // n_head\n",
    "\n",
    "        # Split weights for each head\n",
    "        Q = np.dot(X, W_Q).reshape(n_seq, n_head, head_dim)  # [n_seq, n_embd] -> [n_seq, n_head, head_dim]\n",
    "        K = np.dot(X, W_K).reshape(n_seq, n_head, head_dim)  # [n_seq, n_embd] -> [n_seq, n_head, head_dim]\n",
    "        V = np.dot(X, W_V).reshape(n_seq, n_head, head_dim)  # [n_seq, n_embd] -> [n_seq, n_head, head_dim]\n",
    "\n",
    "        # Apply attention for each head independently\n",
    "        multihead_outputs = []\n",
    "\n",
    "        for i in range(n_head):\n",
    "            Qi = Q[:, i, :]  # [n_seq, head_dim]\n",
    "            Ki = K[:, i, :]  # [n_seq, head_dim]\n",
    "            Vi = V[:, i, :]  # [n_seq, head_dim]\n",
    "\n",
    "            mask = (1 - np.tri(n_seq, dtype=X.dtype)) * -1e10  # [n_seq, n_seq]\n",
    "\n",
    "            # Calculate attention scores and apply softmax\n",
    "            scores = softmax((np.dot(Qi, Ki.T) / np.sqrt(head_dim)) + mask)  # [n_seq, n_seq]\n",
    "\n",
    "            # Compute weighted sum of values\n",
    "            head_output = np.dot(scores, Vi)  # [n_seq, head_dim]\n",
    "\n",
    "            multihead_outputs.append(head_output)\n",
    "\n",
    "        # Concatenate outputs from all heads\n",
    "        multihead_output = np.concatenate(multihead_outputs, axis=-1)  # [n_seq, n_embd] (back to original dimension)\n",
    "\n",
    "        return multihead_output\n",
    "\n",
    "    def transformer_block(self, X):\n",
    "        # Pass through the multi-head attention layer\n",
    "        attention_output = self.multihead_attention(X, self.W_Q, self.W_K, self.W_V, self.num_heads)\n",
    "\n",
    "        # Apply residual layer normalization\n",
    "        X_normalized = self.residual_norm(X, attention_output)\n",
    "\n",
    "        # Pass through the feedforward network\n",
    "        output = self.feedforward(X_normalized, self.W1, self.W2, self.b1, self.b2)\n",
    "        #print(self.W1.max(), self.W1.min(), self.W1.mean())\n",
    "        return output\n",
    "\n",
    "    def transformer_block_2(self, X):\n",
    "        # Pass through the multi-head attention layer\n",
    "        attention_output = self.multihead_attention(X, self.W_Q_2, self.W_K_2, self.W_V_2, self.num_heads)\n",
    "\n",
    "        # Apply residual layer normalization\n",
    "        X_normalized = self.residual_norm(X, attention_output)\n",
    "\n",
    "        # Pass through the feedforward network\n",
    "        output = self.feedforward(X_normalized, self.W1_2, self.W2_2, self.b1_2, self.b2_2)\n",
    "        return output\n",
    "\n",
    "\n",
    "\n",
    "\n",
    "    def forward(self, sentence):\n",
    "\n",
    "        X = self.full_encode(sentence)\n",
    "        ## Assume there's for loop in here\n",
    "        X = self.transformer_block(X,)\n",
    "        X = self.transformer_block_2(X,)\n",
    "        X = self.softmax(X)\n",
    "\n",
    "        return X\n",
    "\n",
    "    \"\"\"def forward(self, sentence):\n",
    "        X = self.full_encode(sentence)\n",
    "        X = self.transformer_block(X)\n",
    "        X = self.transformer_block_2(X)\n",
    "        \n",
    "        # Project to vocabulary size with a bias towards exact input\n",
    "        X = np.dot(X, 10)\n",
    "        X = self.softmax(X)\n",
    "    \n",
    "        return X\"\"\"\n",
    "\n",
    "    \n",
    "    def predict_next_word(self, current_sequence):\n",
    "        # import pdb;pdb.set_trace()\n",
    "\n",
    "        attention_output = self.forward(current_sequence)\n",
    "        predicted_word_idx = np.argmax(np.sum(attention_output, axis=0))  # Aggregate to predict\n",
    "        return self.decode([predicted_word_idx])\n",
    "    \n",
    "\n",
    "    def inference(self, initial_sentence, max_len=10):\n",
    "        sentence = initial_sentence\n",
    "        for _ in range(max_len - len(initial_sentence.split())):\n",
    "            next_word = self.predict_next_word(sentence)\n",
    "            sentence += \" \" + next_word\n",
    "            if next_word == '.':\n",
    "                break\n",
    "        return sentence\n",
    "\n",
    "\n",
    "    def softmax(self, logits):\n",
    "        exps = np.exp(logits - np.max(logits, axis=-1, keepdims=True))\n",
    "        return exps / np.sum(exps, axis=-1, keepdims=True)\n",
    "\n",
    "    def cross_entropy_loss(self, predictions, targets):\n",
    "        # Compute cross-entropy loss\n",
    "        n_samples = predictions.shape[0]\n",
    "        correct_log_probs = -np.log(predictions[np.arange(n_samples), targets])\n",
    "        loss = np.sum(correct_log_probs) / n_samples\n",
    "        return loss\n",
    "\n",
    "    def backward(self, output, X, lr=0.001):\n",
    "        # Gradient of feedforward network and attention layers\n",
    "        # This assumes that `output` is the result from the forward pass\n",
    "        n_samples = output.shape[0]\n",
    "\n",
    "        # Derivative of softmax\n",
    "        d_output = self.softmax(output)\n",
    "        #print(d_output.mean())\n",
    "        d_output[np.arange(n_samples), np.argmax(X, axis=1)] -= 1  # Use X as target (pretraining)\n",
    "\n",
    "        # Gradient descent update for transformer block 2\n",
    "        d_hidden = np.dot(d_output, self.W2_2.T)  # Gradient wrt W2_2\n",
    "        #print(d_hidden.mean())\n",
    "\n",
    "        d_hidden = np.maximum(0, d_hidden)  # ReLU backward\n",
    "        #print(d_hidden.mean(), \"DHIDDENAFTERRELU\")\n",
    "\n",
    "        self.W2_2 -= lr * np.dot(self.residual_norm(output, d_hidden).T, d_output)\n",
    "        #print((lr * np.dot(self.residual_norm(output, d_hidden).T, d_output)).mean(), \"W2_2\")\n",
    "\n",
    "        self.W1_2 -= lr * np.dot(self.residual_norm(output, d_hidden).T, d_hidden)\n",
    "        self.b2_2 -= lr * np.sum(d_output, axis=0)\n",
    "        self.b1_2 -= lr * np.sum(d_hidden, axis=0)\n",
    "\n",
    "        # Gradient descent update for transformer block 1\n",
    "        d_hidden = np.dot(d_output, self.W2.T)  # Gradient wrt W2\n",
    "        d_hidden = np.maximum(0, d_hidden)  # ReLU backward\n",
    "        self.W2 -= lr * np.dot(self.residual_norm(output, d_hidden).T, d_output)\n",
    "        self.W1 -= lr * np.dot(self.residual_norm(output, d_hidden).T, d_hidden)\n",
    "        self.b2 -= lr * np.sum(d_output, axis=0)\n",
    "        self.b1 -= lr * np.sum(d_hidden, axis=0)\n",
    "        #print(np.dot(self.residual_norm(output, d_hidden).T, d_output).mean() , \"last\")\n",
    "    \n",
    "    def train(self, sentences, epochs=100, lr=0.001):\n",
    "        for epoch in range(epochs):\n",
    "            total_loss = 0\n",
    "            for sentence in sentences:\n",
    "                # Forward pass\n",
    "                X = self.full_encode(sentence)  # Encode input sentence\n",
    "                output = self.forward(sentence)  # Forward pass through transformer blocks\n",
    "                #print(output)\n",
    "                # Backward pass\n",
    "                self.backward(output, X, lr)  # Backpropagation using output and X as target\n",
    "\n",
    "                # Loss calculation\n",
    "                probs = self.softmax(output)\n",
    "                total_loss += self.cross_entropy_loss(probs, np.argmax(X, axis=1))  # Pretraining target is X\n",
    "\n",
    "\n",
    "\n",
    "            # start_sentence = \"what is\"\n",
    "            #print(self.inference(start_sentence, 15))\n",
    "            avg_loss = total_loss / len(sentences)\n",
    "            print(f'Epoch {epoch + 1}/{epochs}, Loss: {avg_loss}')\n",
    "\n",
    "    \n",
    "    \n",
    "\n",
    "\n",
    "# Initialize the model\n",
    "url = \"https://raw.githubusercontent.com/yesinteractive/dadjokes/master/controllers/jokes.txt\"\n",
    "response = requests.get(url)\n",
    "text_content = response.text.lower().replace(\"\\n\", \" \").replace(\"<>\", \" <> \").replace(\".\", \" . \").replace(\"'\",\"\").replace(\",\",\"\").replace(\"?\",\"\")\n",
    "words_in_order = text_content.split(\" \")\n",
    "corpus = list(set(words_in_order))\n",
    "\n",
    "vocab_size = len(corpus)\n",
    "embedding_dims = 20\n",
    "max_seq_len = 10\n",
    "\n",
    "# Initialize lookup table\n",
    "lookup_table = {word: i for i, word in enumerate(corpus)}\n",
    "\n",
    "gpt_model = GPT1Numpy_2TransformerBlock(vocab_size=vocab_size, lookup_table=lookup_table, embedding_dim=embedding_dims, max_seq_len=max_seq_len)\n",
    "\n",
    "# Perform inference\n",
    "start_sentence = \"what is\"\n",
    "generated_text = gpt_model.inference(start_sentence, 15)\n",
    "print(generated_text)\n"
   ]
  },
  {
   "cell_type": "code",
   "execution_count": null,
   "metadata": {},
   "outputs": [],
   "source": []
  },
  {
   "cell_type": "markdown",
   "metadata": {
    "id": "qUzipr09B7_D"
   },
   "source": [
    "### Training\n",
    "\n",
    "Training is as easy as we call the train function...\n"
   ]
  },
  {
   "cell_type": "code",
   "execution_count": null,
   "metadata": {},
   "outputs": [],
   "source": [
    "gpt_model.train([\"what the hell\"],\n",
    "                lr= 2e-3 , epochs=110) \n",
    "\n",
    "## Epoch 1/11, Loss: 2.966768661144718\n",
    "## Epoch 2/11, Loss: 2.9854325455990236\n",
    "## Epoch 3/11, Loss: 2.9760104396094147\n",
    "## Epoch 4/11, Loss: 2.9769194149463067\n",
    "## Epoch 5/11, Loss: 2.9816522615555834\n",
    "## Epoch 6/11, Loss: 2.9879932952993618\n",
    "## Epoch 7/11, Loss: 2.971529127633822\n",
    "## Epoch 8/11, Loss: 2.9819882464453435\n",
    "## Epoch 9/11, Loss: 2.980378243176302\n",
    "## Epoch 10/11, Loss: 2.969979056804577\n",
    "## Epoch 11/11, Loss: 2.9767269046851466\n",
    "\n",
    "\n",
    "# Perform inference\n",
    "start_sentence = \"what the hell\"\n",
    "generated_text = gpt_model.inference(start_sentence, 15)\n",
    "print(generated_text)\n",
    "\n",
    "### what the hell bigger bigger bigger bigger bigger bigger bigger bigger bigger bigger bigger bigger\n"
   ]
  },
  {
   "cell_type": "markdown",
   "metadata": {},
   "source": [
    "### How Backpropagation Works (and How I couldnt make it work)\n",
    "\n",
    "Training this model, which I kindly request help, I either failed on backpropagation algorithm, or the gradients itself. Or, a training strategy. I thought for a small model and small data, any model should fit.\n",
    "\n",
    "Loss doesn't decrease to a certain point. \n",
    "\n",
    "My plan is to find a JAX implementation,\n",
    "- check the weights if my initisialisation is correct\n",
    "- check that the output of the layers are matching with the working implementation on JAX\n",
    "- check if backpropagation matrices having similar mean/std.\n",
    "- also check if JAX implementations works with the data.\n",
    "\n",
    "\n",
    "But to sum up, what I did, and I hope after fixing the backprop, I plan to detail the part below:\n",
    "\n",
    "\n",
    "#### **a. Gradients of Loss**\n",
    "1. **Loss Gradient (Output Layer):**\n",
    "   The gradient of the loss, \\(\\nabla L\\), begins with:\n",
    "   \\[\n",
    "   \\text{d\\_output} = \\text{softmax}(\\text{logits}) - \\text{target\\_one\\_hot}\n",
    "   \\]\n",
    "   This derivative reflects the error signal for each output neuron.\n",
    "\n",
    "\n",
    "\n",
    "#### **b. Feedforward Gradient**\n",
    "For the feedforward network layers in each transformer block:\n",
    "1. Compute gradients with respect to weights and biases in the output layer:\n",
    "   \\[\n",
    "   \\nabla W2 = \\text{X\\_normalized}^T \\cdot \\text{d\\_output}, \\quad \\nabla b2 = \\sum(\\text{d\\_output}, \\text{axis}=0)\n",
    "   \\]\n",
    "2. Backpropagate through the ReLU activation:\n",
    "   \\[\n",
    "   \\text{d\\_hidden} = \\text{d\\_output} \\cdot W2^T \\quad \\text{and apply} \\quad \\text{ReLU'}(\\text{hidden})\n",
    "   \\]\n",
    "3. Compute the gradients for the first linear layer:\n",
    "   \\[\n",
    "   \\nabla W1 = \\text{X}^T \\cdot \\text{d\\_hidden}, \\quad \\nabla b1 = \\sum(\\text{d\\_hidden}, \\text{axis}=0)\n",
    "   \\]\n",
    "\n",
    "Update the weights and biases using:\n",
    "   \\[\n",
    "   W2 -= \\eta \\cdot \\nabla W2, \\quad b2 -= \\eta \\cdot \\nabla b2\n",
    "   \\]\n",
    "\n",
    "\n",
    "\n",
    "#### **c. Attention Gradient**\n",
    "The multi-head self-attention process has additional backpropagation requirements:\n",
    "1. **Attention Outputs:**\n",
    "   Gradients flow back to \\( Q, K, V \\):\n",
    "   \\[\n",
    "   \\text{d\\_scores} = \\text{softmax(scores)} \\cdot \\text{d\\_attention\\_output}\n",
    "   \\]\n",
    "   Gradients with respect to \\( Q, K, V \\) are computed using chain rules involving matrix products and derivatives.\n",
    "\n",
    "2. **Parameter Updates:**\n",
    "   The weight matrices \\( W_Q, W_K, W_V \\) are updated based on:\n",
    "   \\[\n",
    "   W_Q -= \\eta \\cdot \\nabla W_Q, \\quad W_K -= \\eta \\cdot \\nabla W_K, \\quad W_V -= \\eta \\cdot \\nabla W_V\n",
    "   \\]\n",
    "\n",
    "\n",
    "\n",
    "#### **d. Residual and Layer Normalization Gradients**\n",
    "Residual normalization requires computing gradients of the loss with respect to normalized outputs:\n",
    "1. Compute gradients for the residual connection:\n",
    "   \\[\n",
    "   \\text{d\\_residual} = \\text{d\\_feedforward} + \\text{d\\_attention}\n",
    "   \\]\n",
    "2. Backpropagate through normalization:\n",
    "   \\[\n",
    "   \\text{d\\_normalized} = (\\text{X} - \\text{mean}) / \\sqrt{\\text{var} + \\epsilon}\n",
    "   \\]\n",
    "   The gradients with respect to scale and shift (if present) are also computed.\n",
    "\n",
    "\n",
    "\n",
    "#### **e. Update Parameters**\n",
    "All weight matrices (\\( W1, W2, W_Q, W_K, W_V, \\) etc.) and biases (\\( b1, b2 \\)) are updated using the learning rate \\( \\eta \\) and corresponding gradients:\n",
    "\\[\n",
    "\\theta := \\theta - \\eta \\cdot \\nabla \\theta\n",
    "\\]\n",
    "\n"
   ]
  },
  {
   "cell_type": "code",
   "execution_count": null,
   "metadata": {},
   "outputs": [],
   "source": []
  }
 ],
 "metadata": {
  "colab": {
   "provenance": [],
   "toc_visible": true
  },
  "kernelspec": {
   "display_name": "Python 3 (ipykernel)",
   "language": "python",
   "name": "python3"
  },
  "language_info": {
   "codemirror_mode": {
    "name": "ipython",
    "version": 3
   },
   "file_extension": ".py",
   "mimetype": "text/x-python",
   "name": "python",
   "nbconvert_exporter": "python",
   "pygments_lexer": "ipython3",
   "version": "3.9.4"
  }
 },
 "nbformat": 4,
 "nbformat_minor": 4
}
